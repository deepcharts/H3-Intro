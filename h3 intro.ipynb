{
 "cells": [
  {
   "cell_type": "markdown",
   "metadata": {},
   "source": [
    "# H3 Intro"
   ]
  },
  {
   "cell_type": "code",
   "execution_count": null,
   "metadata": {},
   "outputs": [],
   "source": [
    "import h3\n",
    "import pandas as pd\n",
    "import folium\n",
    "import branca.colormap as cm\n"
   ]
  },
  {
   "cell_type": "markdown",
   "metadata": {},
   "source": [
    "#### Set Coordinates and Resolution"
   ]
  },
  {
   "cell_type": "code",
   "execution_count": null,
   "metadata": {},
   "outputs": [],
   "source": [
    "\n",
    "lat = 39.73632141579045\n",
    "lng = -104.9897890191563\n",
    "resolution = 10"
   ]
  },
  {
   "cell_type": "markdown",
   "metadata": {},
   "source": [
    "#### Convert Coordinates to H3"
   ]
  },
  {
   "cell_type": "code",
   "execution_count": null,
   "metadata": {},
   "outputs": [],
   "source": [
    "h3_index = h3.geo_to_h3(lat, lng, resolution)\n",
    "print(f\"H3 Index: {h3_index}\")"
   ]
  },
  {
   "cell_type": "markdown",
   "metadata": {},
   "source": [
    "#### Convert H3 to Coordinates"
   ]
  },
  {
   "cell_type": "code",
   "execution_count": null,
   "metadata": {},
   "outputs": [],
   "source": [
    "lat_lng = h3.h3_to_geo(h3_index)\n",
    "print(f\"Latitude/Longitude: {lat_lng}\")\n"
   ]
  },
  {
   "cell_type": "markdown",
   "metadata": {},
   "source": [
    "#### Convert H3 to Geometry Boundary"
   ]
  },
  {
   "cell_type": "code",
   "execution_count": null,
   "metadata": {},
   "outputs": [],
   "source": [
    "boundary = h3.h3_to_geo_boundary(h3_index)\n",
    "print(f\"Boundary: {boundary}\")"
   ]
  },
  {
   "cell_type": "markdown",
   "metadata": {},
   "source": [
    "#### Map the Boundary"
   ]
  },
  {
   "cell_type": "code",
   "execution_count": null,
   "metadata": {},
   "outputs": [],
   "source": [
    "# Create a map\n",
    "m = folium.Map(location=[lat, lng], zoom_start=16)\n",
    "\n",
    "# Add the H3 cell to the map\n",
    "folium.Polygon(locations=boundary, color='blue', weight=5).add_to(m)\n",
    "\n",
    "# Save the map\n",
    "m\n"
   ]
  },
  {
   "cell_type": "markdown",
   "metadata": {},
   "source": [
    "## Real Data: 311 Calls about illegal parking in Denver, Colorado"
   ]
  },
  {
   "cell_type": "markdown",
   "metadata": {},
   "source": [
    "#### Import and filter data"
   ]
  },
  {
   "cell_type": "code",
   "execution_count": null,
   "metadata": {},
   "outputs": [],
   "source": [
    "denver_311 = pd.read_csv(\"311_service_data_2023.csv\")\n",
    "denver_311 = denver_311[denver_311['Case Summary']=='Pothole']\n",
    "denver_311 = denver_311.dropna(subset=['Latitude', 'Longitude'])\n",
    "denver_311.shape"
   ]
  },
  {
   "cell_type": "markdown",
   "metadata": {},
   "source": [
    "#### Create function to parse each row to create H3 index string and geometry boundaries "
   ]
  },
  {
   "cell_type": "code",
   "execution_count": null,
   "metadata": {},
   "outputs": [],
   "source": [
    "def compute_h3_and_boundaries(row, resolution=8):\n",
    "    lat = row['Latitude']\n",
    "    lng = row['Longitude']\n",
    "    h3_index = h3.geo_to_h3(lat, lng, resolution)\n",
    "    boundaries = h3.h3_to_geo_boundary(h3_index)\n",
    "    return pd.Series([h3_index, boundaries])"
   ]
  },
  {
   "cell_type": "markdown",
   "metadata": {},
   "source": [
    "#### Implement function and check the results"
   ]
  },
  {
   "cell_type": "code",
   "execution_count": null,
   "metadata": {},
   "outputs": [],
   "source": [
    "denver_311[['H3_Index', 'Boundaries']] = denver_311.apply(compute_h3_and_boundaries, axis=1)\n",
    "denver_311[['H3_Index', 'Boundaries']]"
   ]
  },
  {
   "cell_type": "markdown",
   "metadata": {},
   "source": [
    "#### Aggregate by H3 index to get count of pothole reports"
   ]
  },
  {
   "cell_type": "code",
   "execution_count": null,
   "metadata": {},
   "outputs": [],
   "source": [
    "# Aggregate the count of each H3 index\n",
    "denver_311_counts = denver_311.groupby('H3_Index').size().reset_index(name='Count')\n",
    "denver_311_counts\n"
   ]
  },
  {
   "cell_type": "markdown",
   "metadata": {},
   "source": [
    "#### Merge in boundaries to the pothole counts"
   ]
  },
  {
   "cell_type": "code",
   "execution_count": null,
   "metadata": {},
   "outputs": [],
   "source": [
    "# Merge the boundaries back with the counts\n",
    "denver_311_counts = denver_311_counts.merge(\n",
    "    denver_311[['H3_Index', 'Boundaries']].drop_duplicates(), on='H3_Index', how='left'\n",
    ")\n",
    "denver_311_counts"
   ]
  },
  {
   "cell_type": "markdown",
   "metadata": {},
   "source": [
    "#### Visualize on a map"
   ]
  },
  {
   "cell_type": "code",
   "execution_count": null,
   "metadata": {},
   "outputs": [],
   "source": [
    "\n",
    "m = folium.Map(location=[lat, lng], zoom_start=11, tiles='cartodbpositron')\n",
    "\n",
    "# Create a color map using shades of red\n",
    "colormap = cm.LinearColormap(colors=['#ffcccc', '#ff0000'], vmin=denver_311_counts['Count'].min(), vmax=80)\n",
    "\n",
    "# Add the H3 cells to the map with color based on count\n",
    "for _, row in denver_311_counts.iterrows():\n",
    "    boundaries = row['Boundaries']\n",
    "    count = row['Count']\n",
    "    color = colormap(count)\n",
    "    folium.Polygon(\n",
    "        locations=boundaries,\n",
    "        color=color,\n",
    "        weight=1,\n",
    "        fill=True,\n",
    "        fill_opacity=0.7,\n",
    "        popup=f'Count: {count}'\n",
    "    ).add_to(m)\n",
    "\n",
    "# Add the colormap to the map\n",
    "colormap.add_to(m)\n",
    "\n",
    "\n",
    "# Display the map\n",
    "m\n"
   ]
  }
 ],
 "metadata": {
  "kernelspec": {
   "display_name": "general_env",
   "language": "python",
   "name": "python3"
  },
  "language_info": {
   "codemirror_mode": {
    "name": "ipython",
    "version": 3
   },
   "file_extension": ".py",
   "mimetype": "text/x-python",
   "name": "python",
   "nbconvert_exporter": "python",
   "pygments_lexer": "ipython3",
   "version": "3.12.3"
  }
 },
 "nbformat": 4,
 "nbformat_minor": 2
}
